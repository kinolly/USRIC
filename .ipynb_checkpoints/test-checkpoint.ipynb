{
 "cells": [
  {
   "cell_type": "code",
   "execution_count": 3,
   "metadata": {},
   "outputs": [
    {
     "data": {
      "text/plain": [
       "array([[255, 255,   0, ..., 255, 255, 255],\n",
       "       [255, 255, 255, ..., 255, 255, 255],\n",
       "       [255, 255, 255, ..., 255, 255, 255],\n",
       "       ...,\n",
       "       [255, 255, 255, ..., 255, 255, 255],\n",
       "       [255, 255, 255, ..., 255, 255, 255],\n",
       "       [255, 255, 255, ..., 255, 255, 255]], dtype=int16)"
      ]
     },
     "execution_count": 3,
     "metadata": {},
     "output_type": "execute_result"
    }
   ],
   "source": [
    "import os\n",
    "import cv2\n",
    "import numpy as np\n",
    "\n",
    "path = '/home/arron/dataset/U-RSIC/complex/train_split_256x256/label'\n",
    "img_list = os.listdir(path)\n",
    "\n",
    "img1 = cv2.imread(os.path.join(path, '0189_1_1565791505_73_0_0.tiff'), cv2.IMREAD_GRAYSCALE)\n",
    "img2 = cv2.imread(os.path.join(path, '0189_1_1565791505_73_0_1.tiff'), cv2.IMREAD_GRAYSCALE)\n",
    "\n",
    "def encode_segmap(label_img):\n",
    "    label_img = label_img.astype(int)\n",
    "    label_mask = np.zeros(label_img.shape, dtype=np.int16)\n",
    "    label_opp = np.ones(label_img.shape, dtype=np.int16)\n",
    "\n",
    "    label_mask[np.where(label_img == 255)] = 1\n",
    "    label_mask = label_mask ^ label_opp\n",
    "    \n",
    "    return label_mask\n",
    "\n",
    "def decode_segmap(output):\n",
    "    output = output.astype(int)\n",
    "    label_mask = np.zeros(output.shape, dtype=np.int16)\n",
    "\n",
    "    label_mask[np.where(output == 0)] = 255\n",
    "    label_mask[np.where(output == 1)] = 0\n",
    "    return label_mask\n",
    "\n",
    "\n",
    "decode_segmap(encode_segmap(img1))"
   ]
  },
  {
   "cell_type": "code",
   "execution_count": 6,
   "metadata": {},
   "outputs": [
    {
     "data": {
      "image/png": "[encoded data removed]",
      "text/plain": [
       "<Figure size 432x288 with 2 Axes>"
      ]
     },
     "metadata": {
      "needs_background": "light"
     },
     "output_type": "display_data"
    }
   ],
   "source": [
    "import matplotlib.pyplot as plt\n",
    "plt.subplot(121)\n",
    "plt.imshow(img1)\n",
    "plt.subplot(122)\n",
    "plt.imshow(img2)\n",
    "plt.show()"
   ]
  },
  {
   "cell_type": "code",
   "execution_count": 75,
   "metadata": {},
   "outputs": [
    {
     "name": "stdout",
     "output_type": "stream",
     "text": [
      "tensor([[1.]])\n"
     ]
    },
    {
     "name": "stderr",
     "output_type": "stream",
     "text": [
      "/home/arron/miniconda3/lib/python3.6/site-packages/ipykernel_launcher.py:23: UserWarning: Implicit dimension choice for softmax has been deprecated. Change the call to include dim=X as an argument.\n",
      "/home/arron/miniconda3/lib/python3.6/site-packages/ipykernel_launcher.py:25: UserWarning: Implicit dimension choice for softmax has been deprecated. Change the call to include dim=X as an argument.\n"
     ]
    },
    {
     "data": {
      "text/plain": [
       "tensor([[0.],\n",
       "        [0.]])"
      ]
     },
     "execution_count": 75,
     "metadata": {},
     "output_type": "execute_result"
    }
   ],
   "source": [
    "import torch\n",
    "import torch.nn as nn\n",
    "import torch.nn.functional as F\n",
    "from torch.autograd import Variable\n",
    "\n",
    "class FocalLoss(nn.Module):\n",
    "    def __init__(self, num_classes=2, alpha=None, gamma=2, size_average=True):\n",
    "        super(FocalLoss, self).__init__()\n",
    "        if alpha is None:\n",
    "            self.alpha = Variable(torch.ones(num_classes, 1))\n",
    "        else:\n",
    "            if isinstance(alpha, Variable):\n",
    "                self.alpha = alpha\n",
    "            else:\n",
    "                self.alpha = Variable(alpha)\n",
    "                \n",
    "        self.gamma = gamma\n",
    "\n",
    "    def forward(self, inputs, targets):\n",
    "        if inputs.is_cuda and not self.alpha.is_cuda:\n",
    "            self.alpha = self.alpha.cuda()\n",
    "#         print(inputs.shape)\n",
    "        print(F.softmax(inputs))\n",
    "        base_loss = -(targets * (inputs - torch.log(torch.exp(inputs).sum())))\n",
    "        loss = -self.alpha * (1. - F.softmax(inputs)) ** self.gamma * base_loss\n",
    "        return loss\n",
    "        \n",
    "loss = FocalLoss()\n",
    "loss(torch.tensor([[.3]]), torch.tensor([1.]))"
   ]
  },
  {
   "cell_type": "code",
   "execution_count": 77,
   "metadata": {},
   "outputs": [
    {
     "data": {
      "text/plain": [
       "(tensor(5.4210), tensor(8.6789))"
      ]
     },
     "execution_count": 77,
     "metadata": {},
     "output_type": "execute_result"
    }
   ],
   "source": [
    "inputs = torch.tensor([[3.], [4.], [1.], [5.]])\n",
    "targets = torch.tensor([1.])\n",
    "alpha = []\n",
    "bl = -(targets * (inputs - torch.log(torch.exp(inputs).sum()))).sum()\n",
    "((1 - F.softmax(inputs, dim=0)) ** 2 * bl).mean(), bl"
   ]
  }
 ],
 "metadata": {
  "kernelspec": {
   "display_name": "Python 3",
   "language": "python",
   "name": "python3"
  },
  "language_info": {
   "codemirror_mode": {
    "name": "ipython",
    "version": 3
   },
   "file_extension": ".py",
   "mimetype": "text/x-python",
   "name": "python",
   "nbconvert_exporter": "python",
   "pygments_lexer": "ipython3",
   "version": "3.6.8"
  }
 },
 "nbformat": 4,
 "nbformat_minor": 2
}
